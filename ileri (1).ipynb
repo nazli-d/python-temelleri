{
 "cells": [
  {
   "cell_type": "markdown",
   "metadata": {},
   "source": [
    "S1. Kullanıcıdan sınav notunu kabul eden ve notu aşağıdaki kriterlere göre görüntüleyen bir program yazın:\n",
    " Marks Grade\n",
    " > 90 A\n",
    " > 80 and <= 90 B\n",
    " >= 60 and <= 80 C\n",
    " >=50 and < 60 D\n",
    " Below F\n"
   ]
  },
  {
   "cell_type": "code",
   "execution_count": null,
   "metadata": {},
   "outputs": [],
   "source": [
    "sinav_notu = int(input(\"notunuzu girin: \"))\n",
    "if sinav_notu > 90:\n",
    "    print(\"A\")\n",
    "elif sinav_notu > 80 and sinav_notu <= 90:\n",
    "    print(\"B\")\n",
    "elif sinav_notu >= 60 and sinav_notu <= 80:\n",
    "    print(\"C\")\n",
    "elif sinav_notu >= 50 and sinav_notu < 60:\n",
    "    print(\"D\")\n",
    "else:\n",
    "    print(\"F\")"
   ]
  },
  {
   "cell_type": "markdown",
   "metadata": {},
   "source": [
    "Q2. Bir bisikletin maliyet fiyatını kabul eden ve aşağıdaki kriterlere göre ödenmesi gereken yol vergisini görüntüleyen bir program yazın:\n",
    "\n",
    " Cost price (in Rs) Tax\n",
    " > 10000 15 %\n",
    " > 5000 and <= 10000 10%\n",
    " <= 5000 5%"
   ]
  },
  {
   "cell_type": "code",
   "execution_count": null,
   "metadata": {},
   "outputs": [],
   "source": [
    "fiyat = int(input(\"bisiklet fiyatını girin: \"))\n",
    "if fiyat >10000:\n",
    "    vergi = 0.15 * fiyat\n",
    "    fiyat = fiyat +vergi\n",
    "elif fiyat > 5000 and fiyat <= 10000:\n",
    "    vergi = 0.10 *fiyat\n",
    "    fiyat = fiyat +vergi\n",
    "else:\n",
    "    vergi = 0.5 *fiyat\n",
    "    fiyat = fiyat +vergi\n",
    "print(\"fiyat: \",fiyat)\n",
    "print(\"vergi: \",vergi)"
   ]
  },
  {
   "cell_type": "markdown",
   "metadata": {},
   "source": [
    "1'den belirli bir sayıya kadar tüm sayıların toplamını hesaplayın."
   ]
  },
  {
   "cell_type": "code",
   "execution_count": null,
   "metadata": {},
   "outputs": [],
   "source": [
    "sayi = int(input(\"bir sayi girin: \"))\n",
    "toplam = 0\n",
    "\n",
    "for i in range (1, sayi+1):\n",
    "    toplam += i \n",
    "    \n",
    "print(\"toplam eşittir: \",toplam)"
   ]
  },
  {
   "cell_type": "markdown",
   "metadata": {},
   "source": [
    "1\n",
    "22\n",
    "333\n",
    "4444\n",
    "55555"
   ]
  },
  {
   "cell_type": "code",
   "execution_count": null,
   "metadata": {},
   "outputs": [],
   "source": [
    "for i in range(6):\n",
    "    for f in range(i):\n",
    "        print(i, end = ' ')\n",
    "    print(\"\")         "
   ]
  },
  {
   "cell_type": "markdown",
   "metadata": {},
   "source": [
    "S3. 1'den 7'ye kadar bir sayıyı kabul eden ve Pazar için 1, Pazartesi için 2 gibi günün adını görüntüleyen bir program yazın."
   ]
  },
  {
   "cell_type": "code",
   "execution_count": 1,
   "metadata": {},
   "outputs": [
    {
     "name": "stdout",
     "output_type": "stream",
     "text": [
      "Lütfen 1 ile 7 arasında bir sayı girin: 4\n",
      "Girilen sayıya karşılık gelen gün: Çarşamba\n"
     ]
    }
   ],
   "source": [
    "sayi = int(input(\"Lütfen 1 ile 7 arasında bir sayı girin: \"))\n",
    "if sayi == 1:\n",
    "    gun_adı = \"Pazar\"\n",
    "elif sayi == 2:\n",
    "    gun_adı = \"Pazartesi\"\n",
    "elif sayi == 3:\n",
    "    gun_adı = \"Salı\"\n",
    "elif sayi == 4:\n",
    "    gun_adı = \"Çarşamba\"\n",
    "elif sayi == 5:\n",
    "    gun_adı = \"Perşembe\"\n",
    "elif sayi == 6:\n",
    "    gun_adı = \"Cuma\"\n",
    "elif sayi == 7:\n",
    "    gun_adı = \"Cumartesi\"\n",
    "else:\n",
    "    gun_adı = \"Geçersiz gün numarası\"\n",
    "print(\"Girilen günün adı:\", gun_adı)"
   ]
  },
  {
   "cell_type": "markdown",
   "metadata": {},
   "source": [
    "S4. 1'den 12'ye kadar bir sayıyı kabul eden ve ayın adını ve o aydaki günleri (Ocak için 1 ve 31 gün sayısı gibi) görüntüleyen bir program yazın."
   ]
  },
  {
   "cell_type": "code",
   "execution_count": 2,
   "metadata": {},
   "outputs": [
    {
     "name": "stdout",
     "output_type": "stream",
     "text": [
      "Lütfen 1 ile 12 arasında bir sayı girin: 5\n",
      "Mayıs ayında 31 gün bulunmaktadır.\n"
     ]
    }
   ],
   "source": [
    "ay_sayisi = int(input(\"Lütfen 1 ile 12 arasında bir sayı girin: \"))\n",
    "aylar = [\n",
    "    \"Ocak\", \"Şubat\", \"Mart\", \"Nisan\",\n",
    "    \"Mayıs\", \"Haziran\", \"Temmuz\", \"Ağustos\",\n",
    "    \"Eylül\", \"Ekim\", \"Kasım\", \"Aralık\"]\n",
    "gun_sayilari = [31, 28, 31, 30, 31, 30, 31, 31, 30, 31, 30, 31]\n",
    "if 1 <= ay_sayisi <= 12:\n",
    "    ay_adı = aylar[ay_sayisi - 1]\n",
    "    gun_sayısı = gun_sayilari[ay_sayisi - 1]\n",
    "    print(f\"{ay_adı} ayında {gun_sayısı} gün bulunmaktadır.\")\n",
    "else:\n",
    "    print(\"Geçersiz ay numarası\")"
   ]
  },
  {
   "cell_type": "markdown",
   "metadata": {},
   "source": [
    "S5. Bir şirket, hizmet yılı fazla olan çalışanına yüzde 5 oranında ikramiye vermeye karar verdi 5 yıldan fazla. Kullanıcıya maaşını ve hizmet yılını sorun ve net ikramiye tutarını yazdırın."
   ]
  },
  {
   "cell_type": "code",
   "execution_count": 8,
   "metadata": {},
   "outputs": [
    {
     "name": "stdout",
     "output_type": "stream",
     "text": [
      "Lütfen maaşınızı girin: 5000\n",
      "Lütfen hizmet yılınızı girin: 6\n",
      "Net ikramiye tutarı: 250.0\n"
     ]
    }
   ],
   "source": [
    "maas = float(input(\"Lütfen maaşınızı girin: \"))\n",
    "hizmet_yili = int(input(\"Lütfen hizmet yılınızı girin: \"))\n",
    "ikramiye_orani = 0.05 if hizmet_yili > 5 else 0\n",
    "net_ikramiye = maas * ikramiye_orani\n",
    "print(f\"Net ikramiye tutarı: {net_ikramiye}\")"
   ]
  },
  {
   "cell_type": "markdown",
   "metadata": {},
   "source": [
    "S6. Bir mağaza, satın alınan miktarın maliyeti 1000'den fazla ise %10 indirim yapacaktır. Kullanıcıdan miktar isteyin. Bir birimin 100 dolara mal olacağını varsayalım. Kullanıcı için toplam maliyeti değerlendirin ve yazdırın."
   ]
  },
  {
   "cell_type": "code",
   "execution_count": 11,
   "metadata": {},
   "outputs": [
    {
     "name": "stdout",
     "output_type": "stream",
     "text": [
      "Lütfen satın alınan miktarı girin: 5\n",
      "Toplam maliyet:  500\n"
     ]
    }
   ],
   "source": [
    "miktar = int(input(\"Lütfen satın alınan miktarı girin: \"))\n",
    "birim_maliyet = 100\n",
    "toplam_maliyet = miktar * birim_maliyet\n",
    "if toplam_maliyet > 1000:\n",
    "    indirim_orani = 0.10\n",
    "    toplam_maliyet -= toplam_maliyet * indirim_orani\n",
    "print(\"Toplam maliyet: \",toplam_maliyet)"
   ]
  },
  {
   "cell_type": "markdown",
   "metadata": {},
   "source": [
    "4, 7 ve 10 hariç 0'dan 10'a kadar olan tüm sayıları yazdıran bir Python programı yazınız."
   ]
  },
  {
   "cell_type": "code",
   "execution_count": 15,
   "metadata": {},
   "outputs": [
    {
     "name": "stdout",
     "output_type": "stream",
     "text": [
      "0 1 2 3 5 6 8 9 "
     ]
    }
   ],
   "source": [
    "for sayi in range(11):\n",
    "    if sayi not in [4, 7, 10]:\n",
    "        print(sayi,end=\" \")"
   ]
  },
  {
   "cell_type": "markdown",
   "metadata": {},
   "source": [
    "Üç sayının maksimumunu bulmak için bir Python fonksiyonu yazın."
   ]
  },
  {
   "cell_type": "code",
   "execution_count": 16,
   "metadata": {},
   "outputs": [
    {
     "name": "stdout",
     "output_type": "stream",
     "text": [
      "Birinci sayıyı girin: 5\n",
      "İkinci sayıyı girin: 4\n",
      "Üçüncü sayıyı girin: 1\n",
      "Üç sayının maksimumu: 5\n"
     ]
    }
   ],
   "source": [
    "def maksimum_bul(sayi1, sayi2, sayi3):\n",
    "    if sayi1 >= sayi2 and sayi1 >= sayi3:\n",
    "        return sayi1\n",
    "    elif sayi2 >= sayi1 and sayi2 >= sayi3:\n",
    "        return sayi2\n",
    "    else:\n",
    "        return sayi3\n",
    "sayi1 = int(input(\"Birinci sayıyı girin: \"))\n",
    "sayi2 = int(input(\"İkinci sayıyı girin: \"))\n",
    "sayi3 = int(input(\"Üçüncü sayıyı girin: \"))\n",
    "sonuc = maksimum_bul(sayi1, sayi2, sayi3)\n",
    "print(f\"Üç sayının maksimumu: {sonuc}\")\n",
    "\n",
    "---------------------------------------------\n",
    "def maksimum_bul(sayi1, sayi2, sayi3):\n",
    "    return max(sayi1, sayi2, sayi3)\n",
    "sayi1 = int(input(\"Birinci sayıyı girin: \"))\n",
    "sayi2 = int(input(\"İkinci sayıyı girin: \"))\n",
    "sayi3 = int(input(\"Üçüncü sayıyı girin: \"))\n",
    "sonuc = maksimum_bul(sayi1, sayi2, sayi3)\n",
    "print(f\"Üç sayının maksimumu: {sonuc}\")"
   ]
  },
  {
   "cell_type": "markdown",
   "metadata": {},
   "source": [
    "Belirli bir listedeki çift sayıları yazdıracak bir Python programı yazınız."
   ]
  },
  {
   "cell_type": "code",
   "execution_count": null,
   "metadata": {},
   "outputs": [],
   "source": [
    "liste = [1, 2, 3, 4, 5, 6, 7, 8, 9, 10]\n",
    "for sayi in liste:\n",
    "    if sayi % 2 == 0:\n",
    "        print(sayi)"
   ]
  },
  {
   "cell_type": "markdown",
   "metadata": {},
   "source": [
    "S4. Bir dizeyi kabul eden ve büyük ve küçük harflerin sayısını hesaplayan bir Python işlevi yazın."
   ]
  },
  {
   "cell_type": "code",
   "execution_count": null,
   "metadata": {},
   "outputs": [],
   "source": [
    "def harf_sayilari(dize):\n",
    "    buyuk_harfler = 0\n",
    "    kucuk_harfler = 0\n",
    "    for harf in dize:\n",
    "        if harf.isupper():\n",
    "            buyuk_harfler += 1\n",
    "        elif harf.islower():\n",
    "            kucuk_harfler += 1\n",
    "    return buyuk_harfler, kucuk_harfler\n",
    "girilen_dize = input(\"Bir dize girin: \")\n",
    "buyuk, kucuk = harf_sayilari(girilen_dize)\n",
    "print(f\"Büyük harf sayısı: {buyuk}\")\n",
    "print(f\"Küçük harf sayısı: {kucuk}\")"
   ]
  },
  {
   "cell_type": "markdown",
   "metadata": {},
   "source": [
    "S5. 2 değer alan ve bunun toplamını, çıkarma işlemini, çarpma işlemini ve sonucunu döndüren bir fonksiyon tanımlayın.\n"
   ]
  },
  {
   "cell_type": "code",
   "execution_count": 26,
   "metadata": {},
   "outputs": [
    {
     "name": "stdout",
     "output_type": "stream",
     "text": [
      "toplam:  9\n",
      "fark:  5\n",
      "çarpım:  14\n"
     ]
    }
   ],
   "source": [
    "def hesap(a,b):\n",
    "    print(\"toplam: \", a+b)\n",
    "    print(\"fark: \", a-b)\n",
    "    print(\"çarpım: \", a*b)\n",
    "hesap(7,2)"
   ]
  },
  {
   "cell_type": "markdown",
   "metadata": {},
   "source": [
    "S6. Yarıçapı kabul eden ve bir dairenin alanını döndüren bir fonksiyon tanımlayın."
   ]
  },
  {
   "cell_type": "code",
   "execution_count": 17,
   "metadata": {},
   "outputs": [
    {
     "name": "stdout",
     "output_type": "stream",
     "text": [
      "Dairenin yarıçapını girin: 50\n",
      "Dairenin alanı: 7850.0\n"
     ]
    }
   ],
   "source": [
    "import math\n",
    "def daire_alani_hesapla(yaricap):\n",
    "    alan = math.pi * yaricap**2\n",
    "    return alan\n",
    "yaricap = float(input(\"Dairenin yarıçapını girin: \"))\n",
    "alan = daire_alani_hesapla(yaricap)\n",
    "print(f\"Dairenin alanı: {alan}\")"
   ]
  },
  {
   "cell_type": "markdown",
   "metadata": {},
   "source": [
    "Özyinelemeli Fibonacci"
   ]
  },
  {
   "cell_type": "code",
   "execution_count": 24,
   "metadata": {},
   "outputs": [
    {
     "name": "stdout",
     "output_type": "stream",
     "text": [
      "Fibonacci serisinin kaçıncı terimine kadar hesaplanacak? 5\n",
      "0 1 1 2 3 "
     ]
    }
   ],
   "source": [
    "def fibonacci(n):\n",
    "    if n <= 1:\n",
    "        return n\n",
    "    else:\n",
    "        return fibonacci(n-1) + fibonacci(n-2)\n",
    "sayi = int(input(\"Fibonacci serisinin kaçıncı terimine kadar hesaplanacak? \"))\n",
    "for i in range(sayi):\n",
    "    print(fibonacci(i),end=\" \")"
   ]
  },
  {
   "cell_type": "markdown",
   "metadata": {},
   "source": [
    "Bir kod yazın (faktöriyel için özyinelemeli fonksiyon)"
   ]
  },
  {
   "cell_type": "code",
   "execution_count": 25,
   "metadata": {},
   "outputs": [
    {
     "name": "stdout",
     "output_type": "stream",
     "text": [
      "Faktöriyelini hesaplamak istediğiniz sayıyı girin: 5\n",
      "5! = 120\n"
     ]
    }
   ],
   "source": [
    "def faktoriyel(n):\n",
    "    if n == 0 or n == 1:\n",
    "        return 1\n",
    "    else:\n",
    "        return n * faktoriyel(n-1)\n",
    "sayi = int(input(\"Faktöriyelini hesaplamak istediğiniz sayıyı girin: \"))\n",
    "sonuc = faktoriyel(sayi)\n",
    "print(f\"{sayi}! = {sonuc}\")"
   ]
  },
  {
   "cell_type": "markdown",
   "metadata": {},
   "source": [
    "S1. Bir sayının faktöriyelini bulan programı yazınız."
   ]
  },
  {
   "cell_type": "code",
   "execution_count": 25,
   "metadata": {},
   "outputs": [
    {
     "name": "stdout",
     "output_type": "stream",
     "text": [
      "sayi: 5\n",
      "5 != 120\n"
     ]
    }
   ],
   "source": [
    "def faktoriyelmi(sayi):\n",
    "    faktoriyel=1\n",
    "    for i in range(1,sayi+1):\n",
    "        faktoriyel *=i\n",
    "    print(sayi,\"!=\",faktoriyel)\n",
    "faktoriyelmi(int(input(\"sayi: \")))"
   ]
  },
  {
   "cell_type": "markdown",
   "metadata": {},
   "source": [
    "Q2. Bir sayının asal olup olmadığını kontrol eden bir program yazınız."
   ]
  },
  {
   "cell_type": "code",
   "execution_count": 8,
   "metadata": {},
   "outputs": [
    {
     "name": "stdout",
     "output_type": "stream",
     "text": [
      "asal değil\n"
     ]
    }
   ],
   "source": [
    "sayi = int(input(\"bir sayi girin: \"))\n",
    "if sayi >1:\n",
    "    for i in range (2,sayi):\n",
    "        if sayi%i == 0:\n",
    "            print (sayi, \"asal değildir\")\n",
    "            break\n",
    "    else:\n",
    "        print(sayi, \"asaldır\")\n",
    "else:\n",
    "    print(sayi,\"asal değildir\")"
   ]
  },
  {
   "cell_type": "markdown",
   "metadata": {},
   "source": [
    "Döngü kullanarak listedeki sayıları görüntüleme"
   ]
  },
  {
   "cell_type": "code",
   "execution_count": 27,
   "metadata": {},
   "outputs": [
    {
     "name": "stdout",
     "output_type": "stream",
     "text": [
      "Liste boyutunu girin: 2\n",
      "1. elemanı girin: 1\n",
      "2. elemanı girin: 5\n",
      "Girilen Liste:\n",
      "1\n",
      "5\n"
     ]
    }
   ],
   "source": [
    "liste = []\n",
    "n = int(input(\"Liste boyutunu girin: \"))\n",
    "for i in range(n):\n",
    "    eleman = int(input(f\"{i+1}. elemanı girin: \"))\n",
    "    liste.append(eleman)\n",
    "print(\"Girilen Liste:\")\n",
    "for sayi in liste:\n",
    "    print(sayi)\n",
    "    \n",
    "   ---------------------\n",
    "liste = [1, 2, 3, 4, 5]\n",
    "for sayi in liste:\n",
    "    print(sayi)"
   ]
  },
  {
   "cell_type": "markdown",
   "metadata": {},
   "source": [
    "Bir sayıdaki toplam rakam sayısını while döngüsü kullanarak sayan bir program yazın."
   ]
  },
  {
   "cell_type": "code",
   "execution_count": 28,
   "metadata": {},
   "outputs": [
    {
     "name": "stdout",
     "output_type": "stream",
     "text": [
      "Bir sayı girin: 123\n",
      "Toplam rakam sayısı: 6\n"
     ]
    }
   ],
   "source": [
    "sayi = int(input(\"Bir sayı girin: \"))\n",
    "toplam_rakam = 0\n",
    "while sayi != 0:\n",
    "    toplam_rakam += sayi % 10\n",
    "    sayi //= 10\n",
    "print(f\"Toplam rakam sayısı: {toplam_rakam}\")"
   ]
  },
  {
   "cell_type": "markdown",
   "metadata": {},
   "source": [
    "Fibonacci serisini 10 terime kadar görüntüleyin\n",
    "Fibonacci Dizisi bir sayı dizisidir. Bir sonraki sayı toplanarak bulunur\n",
    "ondan önce iki sayı. İlk iki sayı 0 ve 1'dir.\n",
    "Örneğin 0, 1, 1, 2, 3, 5, 8, 13, 21. Yukarıdaki serideki bir sonraki sayı 13+21 = 34'tür."
   ]
  },
  {
   "cell_type": "code",
   "execution_count": 31,
   "metadata": {},
   "outputs": [
    {
     "name": "stdout",
     "output_type": "stream",
     "text": [
      "0, 1, 1, 2, 3, 5, 8, 13, 21, 34, "
     ]
    }
   ],
   "source": [
    "a, b = 0, 1\n",
    "for i in range(10):\n",
    "    print(a, end=\", \")\n",
    "    a, b = b, a + b"
   ]
  },
  {
   "cell_type": "markdown",
   "metadata": {},
   "source": [
    "Sayıların karesi artı 1'i (örneğin: sayı 4 yani 4^2+1= 17) 1'den 20'ye kadar listeleyen bir program yazın."
   ]
  },
  {
   "cell_type": "code",
   "execution_count": 34,
   "metadata": {},
   "outputs": [
    {
     "name": "stdout",
     "output_type": "stream",
     "text": [
      "1 sayısının karesi artı 1: 2\n",
      "2 sayısının karesi artı 1: 5\n",
      "3 sayısının karesi artı 1: 10\n",
      "4 sayısının karesi artı 1: 17\n"
     ]
    }
   ],
   "source": [
    "for sayi in range(1, 5):\n",
    "    sonuc = sayi**2 + 1\n",
    "    print(f\"{sayi} sayısının karesi artı 1: {sonuc}\")"
   ]
  },
  {
   "cell_type": "code",
   "execution_count": null,
   "metadata": {},
   "outputs": [],
   "source": [
    "1\n",
    "2 2\n",
    "3 3 3\n",
    "4 4 4 4\n",
    "5 5 5 5 5"
   ]
  },
  {
   "cell_type": "code",
   "execution_count": 35,
   "metadata": {},
   "outputs": [
    {
     "name": "stdout",
     "output_type": "stream",
     "text": [
      "1 \n",
      "2 2 \n",
      "3 3 3 \n",
      "4 4 4 4 \n",
      "5 5 5 5 5 \n"
     ]
    }
   ],
   "source": [
    "for i in range(1, 6):\n",
    "    print((str(i) + ' ') * i)"
   ]
  },
  {
   "cell_type": "markdown",
   "metadata": {},
   "source": [
    "Python'da çarpım tablosunu yazdırmak için iç içe geçmiş bir for döngüsü programı yazın"
   ]
  },
  {
   "cell_type": "code",
   "execution_count": null,
   "metadata": {},
   "outputs": [],
   "source": [
    "for i in range(1, 11):\n",
    "    for j in range(1, 11):\n",
    "        carpim = i * j\n",
    "        print(f\"{i} x {j} = {carpim}\")\n",
    "    print()  "
   ]
  },
  {
   "cell_type": "markdown",
   "metadata": {},
   "source": [
    "Dış for döngüsü ilk listeyi yineler ve iç döngü de ikinci listeyi yineler.\n",
    "sayıların.\n",
    "Dıştaki sayı ile içteki döngünün geçerli numarası aynıysa o zaman döngüye geçin.\n",
    "bir iç döngünün sonraki yinelemesi."
   ]
  },
  {
   "cell_type": "code",
   "execution_count": 38,
   "metadata": {},
   "outputs": [
    {
     "name": "stdout",
     "output_type": "stream",
     "text": [
      "2 * 4 = 8\n",
      "2 * 6 = 12\n",
      "4 * 2 = 8\n",
      "4 * 6 = 24\n",
      "6 * 2 = 12\n",
      "6 * 4 = 24\n"
     ]
    }
   ],
   "source": [
    "ilk = [2, 4, 6]\n",
    "ikinci = [2, 4, 6]\n",
    "for i in ilk:\n",
    "    for j in ikinci:\n",
    "        if i == j:\n",
    "            continue  \n",
    "        carpim = i * j\n",
    "        print(f\"{i} * {j} = {carpim}\")"
   ]
  },
  {
   "cell_type": "markdown",
   "metadata": {},
   "source": [
    "İki listeniz var, yeni bir liste oluşturup tüm numaraları birbirine ekleyip yeni listeye koyun.\n",
    "İlk= [2, 3, 4]\n",
    "İkinci =[20, 30, 40]"
   ]
  },
  {
   "cell_type": "code",
   "execution_count": 39,
   "metadata": {},
   "outputs": [
    {
     "name": "stdout",
     "output_type": "stream",
     "text": [
      "[22, 32, 42, 23, 33, 43, 24, 34, 44]\n"
     ]
    }
   ],
   "source": [
    "ilk = [2, 3, 4]\n",
    "ikinci = [20, 30, 40]\n",
    "yeni_liste = []\n",
    "for x in ilk:\n",
    "    for y in ikinci:\n",
    "        yeni_liste.append(x + y)\n",
    "print(yeni_liste)"
   ]
  },
  {
   "cell_type": "markdown",
   "metadata": {},
   "source": [
    "1 ile 10000 arasındaki mükemmel sayıları bulan bir program yazınız.\n",
    "mükemmel sayı, kendi bölenlerinin toplamına eşit olan pozitif tam sayı. \n",
    "en küçük mükemmel sayı 1, 2 ve 3'ün toplamı olan 6'dır. Diğer mükemmel sayılar\n",
    "28, 496 ve 8,128'dir."
   ]
  },
  {
   "cell_type": "code",
   "execution_count": 44,
   "metadata": {},
   "outputs": [
    {
     "name": "stdout",
     "output_type": "stream",
     "text": [
      "6\n",
      "28\n",
      "496\n",
      "8128\n"
     ]
    }
   ],
   "source": [
    "for sayi in range(1, 10001):\n",
    "    toplam = 0\n",
    "    for i in range(1, sayi):\n",
    "        if sayi % i == 0:\n",
    "            toplam += i\n",
    "            \n",
    "    if toplam == sayi:\n",
    "        print(sayi)"
   ]
  },
  {
   "cell_type": "markdown",
   "metadata": {},
   "source": [
    "Bir parolanın (kullanıcılardan gelen girdi) geçerliliğini kontrol etmek için bir Python programı yazın.\n",
    "Doğrulama:\n",
    "[a-z] arasında en az 1 harf ve [A-Z] arasında en az 1 harf.\n",
    "[0-9] arasında en az 1 sayı.\n",
    "[$#@]'dan en az 1 karakter.\n",
    "Minimum uzunluk 6 karakter.\n",
    "Maksimum uzunluk 16 karakter."
   ]
  },
  {
   "cell_type": "code",
   "execution_count": 45,
   "metadata": {},
   "outputs": [
    {
     "name": "stdout",
     "output_type": "stream",
     "text": [
      "Parolanızı girin: bfızesdfbwl,56216\n",
      "Parola geçersiz.\n"
     ]
    }
   ],
   "source": [
    "def parola_gecerli_mi(parola):\n",
    "    harf_buyuk = any(c.isupper() for c in parola)\n",
    "    harf_kucuk = any(c.islower() for c in parola)\n",
    "    rakam = any(c.isdigit() for c in parola)\n",
    "    ozel_karakter = any(c in \"$#@ \" for c in parola)  # Özel karakterler burada belirtildi, isteğe göre güncellenebilir\n",
    "    uzunluk = 6 <= len(parola) <= 16\n",
    "    return harf_buyuk and harf_kucuk and rakam and ozel_karakter and uzunluk\n",
    "girilen_parola = input(\"Parolanızı girin: \")\n",
    "if parola_gecerli_mi(girilen_parola):\n",
    "    print(\"Parola geçerli.\")\n",
    "else:\n",
    "    print(\"Parola geçersiz.\")"
   ]
  },
  {
   "cell_type": "markdown",
   "metadata": {},
   "source": [
    "1 ile 30 arasındaki (her ikisi de dahil) sayılardan oluşan bir liste oluşturup bu listenin ilk ve son 5 öğesinin karelerini ekrana yazdırınız. "
   ]
  },
  {
   "cell_type": "code",
   "execution_count": 53,
   "metadata": {},
   "outputs": [
    {
     "name": "stdout",
     "output_type": "stream",
     "text": [
      "sayi gir: 20\n",
      "[1, 4, 9, 16, 25, 36, 49, 64, 81, 100, 121, 144, 169, 196, 225, 256, 289, 324, 361, 400]\n",
      "[1, 4, 9, 16, 25]\n",
      "[256, 289, 324, 361, 400]\n"
     ]
    }
   ],
   "source": [
    "n=int(input(\"sayi gir: \"))\n",
    "def sayilar(n):\n",
    "    x=[]\n",
    "    for i in range(1,n+1):\n",
    "        x.append(i**2)\n",
    "    print(x)\n",
    "    print(x[:5])\n",
    "    print(x[-5:])\n",
    "sayilar(n)"
   ]
  },
  {
   "cell_type": "markdown",
   "metadata": {},
   "source": [
    "2-) Bir listedeki öğelerden belirli bir aralıkta bulunanların sayısını hesaplayan programı yazın."
   ]
  },
  {
   "cell_type": "code",
   "execution_count": 54,
   "metadata": {},
   "outputs": [
    {
     "name": "stdout",
     "output_type": "stream",
     "text": [
      "6\n"
     ]
    }
   ],
   "source": [
    "def sayac (liste,x,y):\n",
    "    counter=0\n",
    "    for i in liste:\n",
    "        if i<=y and i>=x:\n",
    "            counter+=1\n",
    "    return counter\n",
    "liste1=[1,5,10,15,18,22,26,30,45,56,70]\n",
    "print(sayac(liste1,15,50))"
   ]
  },
  {
   "cell_type": "code",
   "execution_count": null,
   "metadata": {},
   "outputs": [],
   "source": [
    "3-) Aşağıdaki modeli iç içe for döngüsü kullanarak oluşturmak için bir Python programı yazın.\n",
    "*\n",
    "* *\n",
    "* * *\n",
    "* * * *\n",
    "* * * * *\n",
    "* * * *\n",
    "* * *\n",
    "* *\n",
    "*"
   ]
  },
  {
   "cell_type": "code",
   "execution_count": null,
   "metadata": {},
   "outputs": [],
   "source": [
    "n=10\n",
    "for i in range(n):\n",
    "    for j in range(i):\n",
    "        print(\"*\",end=\" \")\n",
    "    print(\"\")\n",
    "for i in range(n,0,-1):\n",
    "    for j in range(i):\n",
    "        print(\"*\",end)"
   ]
  },
  {
   "cell_type": "markdown",
   "metadata": {},
   "source": [
    "4-) Ekrana yazdığınız bir yazıdaki rakam ve harf sayısını hesaplayan bir Python programı yazın."
   ]
  },
  {
   "cell_type": "code",
   "execution_count": 55,
   "metadata": {},
   "outputs": [
    {
     "name": "stdout",
     "output_type": "stream",
     "text": [
      "metin gir: nuufcdxsdcfvguhıj152629856\n",
      "17  harf var\n",
      "9  rakam var\n"
     ]
    }
   ],
   "source": [
    "metin= input(\"metin gir: \")\n",
    "harf_sayisi=0\n",
    "rakam_sayisi=0\n",
    "for karakter in metin:\n",
    "    if karakter.isalpha():\n",
    "        harf_sayisi+=1\n",
    "    elif karakter.isdigit():\n",
    "        rakam_sayisi+=1\n",
    "print(harf_sayisi,\" harf var\")\n",
    "print(rakam_sayisi,\" rakam var\")"
   ]
  },
  {
   "cell_type": "markdown",
   "metadata": {},
   "source": [
    "5-) Çarpım tablosunu ekrana girdiğiniz sayı için yazdırın."
   ]
  },
  {
   "cell_type": "code",
   "execution_count": 2,
   "metadata": {},
   "outputs": [
    {
     "name": "stdout",
     "output_type": "stream",
     "text": [
      "sayi gir: 4\n",
      "4 x 1 = 4\n",
      "4 x 2 = 8\n",
      "4 x 3 = 12\n",
      "4 x 4 = 16\n",
      "4 x 5 = 20\n",
      "4 x 6 = 24\n",
      "4 x 7 = 28\n",
      "4 x 8 = 32\n",
      "4 x 9 = 36\n",
      "4 x 10 = 40\n"
     ]
    }
   ],
   "source": [
    "n=int(input(\"sayi gir: \"))\n",
    "for i in range(1,11):\n",
    "    print(n,\"x\",i,\"=\",n*i)"
   ]
  },
  {
   "cell_type": "markdown",
   "metadata": {},
   "source": [
    "6-) Ekrana yazılan bir dizenin palindrom olup olmadığını kontrol eden bir Python programı\n",
    "yazın.örneğin, madam."
   ]
  },
  {
   "cell_type": "code",
   "execution_count": 7,
   "metadata": {},
   "outputs": [
    {
     "name": "stdout",
     "output_type": "stream",
     "text": [
      "sözcük gir: naz\n",
      "değil\n"
     ]
    }
   ],
   "source": [
    "def palindromMu(sozcuk):\n",
    "    sozcuk=list(sozcuk)\n",
    "    terssozcuk=sozcuk.copy()\n",
    "    terssozcuk.reverse()\n",
    "    if terssozcuk==sozcuk:\n",
    "        print(\"polindrom\")\n",
    "    else:\n",
    "        print(\"değil\")\n",
    "palindromMu(input(\"sözcük gir: \"))"
   ]
  },
  {
   "cell_type": "markdown",
   "metadata": {},
   "source": [
    "Negatif olmayan bir tam sayının basamak değerlerinin toplamını bulan bir Python programı yazın."
   ]
  },
  {
   "cell_type": "code",
   "execution_count": null,
   "metadata": {},
   "outputs": [],
   "source": [
    "def basamak_toplami(sayi):\n",
    "    toplam = 0\n",
    "    while sayi > 0:\n",
    "        toplam += sayi % 10\n",
    "        sayi //= 10\n",
    "    return toplam\n",
    "sayi = int(input(\"Bir sayı girin: \"))\n",
    "if sayi >= 0:\n",
    "    sonuc = basamak_toplami(sayi)\n",
    "    print(f\"Basamak değerlerinin toplamı: {sonuc}\")\n",
    "else:\n",
    "    print(\"Negatif sayının basamak değerleri toplamı bulunamaz.\")"
   ]
  },
  {
   "cell_type": "markdown",
   "metadata": {},
   "source": [
    "8-) 1000 ile 3000 arasında (her ikisi de dahil) 7'ye bölünebilen ve 5'in katları olan sayıları\n",
    "bulan bir Python programı yazın"
   ]
  },
  {
   "cell_type": "code",
   "execution_count": 10,
   "metadata": {},
   "outputs": [
    {
     "name": "stdout",
     "output_type": "stream",
     "text": [
      "105\n",
      "140\n",
      "175\n",
      "210\n",
      "245\n",
      "280\n"
     ]
    }
   ],
   "source": [
    "for i in range(100,300):\n",
    "    if i%7==0 and i%5==0:\n",
    "        print(i)"
   ]
  }
 ],
 "metadata": {
  "kernelspec": {
   "display_name": "Python 3",
   "language": "python",
   "name": "python3"
  },
  "language_info": {
   "codemirror_mode": {
    "name": "ipython",
    "version": 3
   },
   "file_extension": ".py",
   "mimetype": "text/x-python",
   "name": "python",
   "nbconvert_exporter": "python",
   "pygments_lexer": "ipython3",
   "version": "3.8.5"
  }
 },
 "nbformat": 4,
 "nbformat_minor": 4
}
