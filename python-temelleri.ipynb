{
 "cells": [
  {
   "cell_type": "markdown",
   "metadata": {},
   "source": [
    "iki sayıyı toplayan program"
   ]
  },
  {
   "cell_type": "markdown",
   "metadata": {},
   "source": [
    "DÜZ YAZI\n",
    "1. BAŞLA\n",
    "2. Birinci sayıyı gir\n",
    "3. İkinci sayıyı gir\n",
    "4. İki sayıyı topla\n",
    "5. Sayıların toplam değerini yaz\n",
    "6. BİTİR\n",
    "\n",
    "\n",
    "SÖZDE KOD\n",
    "Toplam için T, birinci sayı için X,\n",
    "ikinci sayı için Y seç.\n",
    "1. BAŞLA\n",
    "2. X değerini OKU\n",
    "3. Y değerini OKU\n",
    "4. T = X + Y\n",
    "5. T değerini YAZ\n",
    "6. BİTİR"
   ]
  },
  {
   "cell_type": "code",
   "execution_count": 1,
   "metadata": {
    "scrolled": false
   },
   "outputs": [
    {
     "name": "stdout",
     "output_type": "stream",
     "text": [
      "birinci sayıyı girin:5\n",
      "ikinci sayıyı girin:6\n",
      "toplam: 56\n"
     ]
    }
   ],
   "source": [
    "t=0\n",
    "x=input(\"birinci sayıyı girin:\")\n",
    "y=input(\"ikinci sayıyı girin:\")\n",
    "t=x+y\n",
    "print(\"toplam:\",t)"
   ]
  },
  {
   "cell_type": "code",
   "execution_count": 2,
   "metadata": {},
   "outputs": [
    {
     "name": "stdout",
     "output_type": "stream",
     "text": [
      "sayı gir:5\n",
      "sayı gir:6\n",
      "56\n"
     ]
    }
   ],
   "source": [
    "x=input(\"sayı gir:\")\n",
    "y=input(\"sayı gir:\")\n",
    "print(x+y)"
   ]
  },
  {
   "cell_type": "code",
   "execution_count": 3,
   "metadata": {
    "scrolled": true
   },
   "outputs": [
    {
     "name": "stdout",
     "output_type": "stream",
     "text": [
      "birinci sayıyı girin:5\n",
      "ikinci sayıyı girin:6\n",
      "toplam: 56\n"
     ]
    }
   ],
   "source": [
    "t=0\n",
    "x=input(\"birinci sayıyı girin:\")\n",
    "y=input(\"ikinci sayıyı girin:\")\n",
    "t=int(x+y)\n",
    "print(\"toplam:\",t)"
   ]
  },
  {
   "cell_type": "code",
   "execution_count": 4,
   "metadata": {},
   "outputs": [
    {
     "name": "stdout",
     "output_type": "stream",
     "text": [
      "birinci sayıyı girin:5\n",
      "ikinci sayıyı girin:6\n",
      "toplam: 11\n"
     ]
    }
   ],
   "source": [
    "t=0\n",
    "x=input(\"birinci sayıyı girin:\")\n",
    "y=input(\"ikinci sayıyı girin:\")\n",
    "t=int(x)+int(y)\n",
    "print(\"toplam:\",t)"
   ]
  },
  {
   "cell_type": "markdown",
   "metadata": {},
   "source": [
    "ÜÇGEN ALANINI HESAPLAYAN PROGRAM "
   ]
  },
  {
   "cell_type": "markdown",
   "metadata": {},
   "source": [
    "DÜZ YAZI\n",
    "1. BAŞLA\n",
    "2. Taban değerini gir\n",
    "3. Yükseklik değerini gir\n",
    "4. Taban ile yüksekliği çarp ve sonucu ikiye böl\n",
    "5. Çıkan sonucu yaz\n",
    "6. BİTİR\n",
    "\n",
    "SÖZDE KOD\n",
    "Taban için t, yükseklik için y, alan için A seç.\n",
    "1. BAŞLA\n",
    "2. t değerini OKU\n",
    "3. y değerini OKU\n",
    "4. A = (t * y)/2\n",
    "5. A değerini YAZ\n",
    "6. BİTİR"
   ]
  },
  {
   "cell_type": "code",
   "execution_count": 5,
   "metadata": {},
   "outputs": [
    {
     "name": "stdout",
     "output_type": "stream",
     "text": [
      "taban değerini gir:2\n",
      "yükseklik değerini gir:3\n"
     ]
    },
    {
     "ename": "TypeError",
     "evalue": "can't multiply sequence by non-int of type 'str'",
     "output_type": "error",
     "traceback": [
      "\u001b[1;31m---------------------------------------------------------------------------\u001b[0m",
      "\u001b[1;31mTypeError\u001b[0m                                 Traceback (most recent call last)",
      "\u001b[1;32m<ipython-input-5-d2de84975f34>\u001b[0m in \u001b[0;36m<module>\u001b[1;34m\u001b[0m\n\u001b[0;32m      2\u001b[0m \u001b[0mt\u001b[0m\u001b[1;33m=\u001b[0m\u001b[0minput\u001b[0m\u001b[1;33m(\u001b[0m\u001b[1;34m\"taban değerini gir:\"\u001b[0m\u001b[1;33m)\u001b[0m\u001b[1;33m\u001b[0m\u001b[1;33m\u001b[0m\u001b[0m\n\u001b[0;32m      3\u001b[0m \u001b[0my\u001b[0m\u001b[1;33m=\u001b[0m\u001b[0minput\u001b[0m\u001b[1;33m(\u001b[0m\u001b[1;34m\"yükseklik değerini gir:\"\u001b[0m\u001b[1;33m)\u001b[0m\u001b[1;33m\u001b[0m\u001b[1;33m\u001b[0m\u001b[0m\n\u001b[1;32m----> 4\u001b[1;33m \u001b[0mA\u001b[0m\u001b[1;33m=\u001b[0m\u001b[1;33m(\u001b[0m\u001b[0mt\u001b[0m\u001b[1;33m*\u001b[0m\u001b[0my\u001b[0m\u001b[1;33m)\u001b[0m\u001b[1;33m/\u001b[0m\u001b[1;36m2\u001b[0m\u001b[1;33m\u001b[0m\u001b[1;33m\u001b[0m\u001b[0m\n\u001b[0m\u001b[0;32m      5\u001b[0m \u001b[0mprint\u001b[0m\u001b[1;33m(\u001b[0m\u001b[0mA\u001b[0m\u001b[1;33m)\u001b[0m\u001b[1;33m\u001b[0m\u001b[1;33m\u001b[0m\u001b[0m\n",
      "\u001b[1;31mTypeError\u001b[0m: can't multiply sequence by non-int of type 'str'"
     ]
    }
   ],
   "source": [
    "A=0\n",
    "t=input(\"taban değerini gir:\")\n",
    "y=input(\"yükseklik değerini gir:\")\n",
    "A=(t*y)/2\n",
    "print(\"alan:\",A)"
   ]
  },
  {
   "cell_type": "code",
   "execution_count": 6,
   "metadata": {},
   "outputs": [
    {
     "name": "stdout",
     "output_type": "stream",
     "text": [
      "taban değerini gir:2\n",
      "yükseklik değerini gir:3\n",
      "alan: 3.0\n"
     ]
    }
   ],
   "source": [
    "A=0\n",
    "t=int(input(\"taban değerini gir:\"))\n",
    "y=int(input(\"yükseklik değerini gir:\"))\n",
    "A=(t*y)/2\n",
    "print(\"alan:\",A)"
   ]
  },
  {
   "cell_type": "code",
   "execution_count": 7,
   "metadata": {},
   "outputs": [
    {
     "name": "stdout",
     "output_type": "stream",
     "text": [
      "taban değerini gir:2\n",
      "yükseklik değerini gir:3\n",
      "alan: 3.0\n"
     ]
    }
   ],
   "source": [
    "t=int(input(\"taban değerini gir:\"))\n",
    "y=int(input(\"yükseklik değerini gir:\"))\n",
    "A=(t*y)/2\n",
    "print(\"alan:\",A)"
   ]
  },
  {
   "cell_type": "markdown",
   "metadata": {},
   "source": [
    "• Klavyeden girilen sayıların bölüm ve kalanını bulan uygulama ?"
   ]
  },
  {
   "cell_type": "code",
   "execution_count": 10,
   "metadata": {},
   "outputs": [
    {
     "name": "stdout",
     "output_type": "stream",
     "text": [
      "bolunen sayıyı gir:12\n",
      "bolen sayıyı gir:6\n",
      "12 / 6 = 2\n",
      "kalan= 0\n"
     ]
    }
   ],
   "source": [
    "bolunen = int(input(\"bolunen sayıyı gir:\"))\n",
    "bolen = int(input(\"bolen sayıyı gir:\"))\n",
    "bolum = bolunen // bolen\n",
    "kalan = bolunen % bolen\n",
    "print(bolunen, \"/\",bolen,\"=\",bolum)\n",
    "print(\"kalan=\",kalan)"
   ]
  },
  {
   "cell_type": "markdown",
   "metadata": {},
   "source": [
    "Yıl sonu notu hesaplayan bir uygulama?"
   ]
  },
  {
   "cell_type": "code",
   "execution_count": 13,
   "metadata": {},
   "outputs": [
    {
     "name": "stdout",
     "output_type": "stream",
     "text": [
      "ara sınav notu:5\n",
      "final sınav notu6\n",
      "yıl sonu notu 5.6\n"
     ]
    }
   ],
   "source": [
    "ara = float(input(\"ara sınav notu:\"))\n",
    "final = float(input(\"final sınav notu\"))\n",
    "yilsonu = ara *0.4 + final*0.6\n",
    "print(\"yıl sonu notu\",yilsonu)"
   ]
  },
  {
   "cell_type": "markdown",
   "metadata": {},
   "source": [
    "İkinci dereceden denklem köklerini bulan bir uygulama?"
   ]
  },
  {
   "cell_type": "code",
   "execution_count": 15,
   "metadata": {},
   "outputs": [
    {
     "name": "stdout",
     "output_type": "stream",
     "text": [
      "a2+bx+c şeklindeki denklemin köklerini bulun\n",
      "a'yı girin:20\n",
      "b'yı girin:21\n",
      "c'yı girin:40\n"
     ]
    },
    {
     "ename": "NameError",
     "evalue": "name 'k2' is not defined",
     "output_type": "error",
     "traceback": [
      "\u001b[1;31m---------------------------------------------------------------------------\u001b[0m",
      "\u001b[1;31mNameError\u001b[0m                                 Traceback (most recent call last)",
      "\u001b[1;32m<ipython-input-15-92f789b182fd>\u001b[0m in \u001b[0;36m<module>\u001b[1;34m\u001b[0m\n\u001b[0;32m      7\u001b[0m \u001b[0mk1\u001b[0m \u001b[1;33m=\u001b[0m \u001b[1;33m(\u001b[0m\u001b[1;33m-\u001b[0m\u001b[0mb\u001b[0m\u001b[1;33m+\u001b[0m\u001b[0md\u001b[0m\u001b[1;33m**\u001b[0m\u001b[1;36m0.5\u001b[0m\u001b[1;33m)\u001b[0m\u001b[1;33m/\u001b[0m\u001b[1;33m(\u001b[0m\u001b[1;36m2\u001b[0m\u001b[1;33m*\u001b[0m\u001b[0ma\u001b[0m\u001b[1;33m)\u001b[0m\u001b[1;33m\u001b[0m\u001b[1;33m\u001b[0m\u001b[0m\n\u001b[0;32m      8\u001b[0m \u001b[0mk1\u001b[0m \u001b[1;33m=\u001b[0m \u001b[1;33m(\u001b[0m\u001b[1;33m-\u001b[0m\u001b[0mb\u001b[0m\u001b[1;33m+\u001b[0m\u001b[0md\u001b[0m\u001b[1;33m**\u001b[0m\u001b[1;36m0.5\u001b[0m\u001b[1;33m)\u001b[0m\u001b[1;33m/\u001b[0m\u001b[1;33m(\u001b[0m\u001b[1;36m2\u001b[0m\u001b[1;33m*\u001b[0m\u001b[0ma\u001b[0m\u001b[1;33m)\u001b[0m\u001b[1;33m\u001b[0m\u001b[1;33m\u001b[0m\u001b[0m\n\u001b[1;32m----> 9\u001b[1;33m \u001b[0mprint\u001b[0m\u001b[1;33m(\u001b[0m\u001b[0ma\u001b[0m\u001b[1;33m,\u001b[0m\u001b[1;34m\"x2\"\u001b[0m\u001b[1;33m,\u001b[0m\u001b[0mb\u001b[0m\u001b[1;33m,\u001b[0m\u001b[1;34m\"x+\"\u001b[0m\u001b[1;33m,\u001b[0m\u001b[0mc\u001b[0m\u001b[1;33m,\u001b[0m\u001b[1;34m\"kökleri:\"\u001b[0m\u001b[1;33m,\u001b[0m\u001b[0mk1\u001b[0m\u001b[1;33m,\u001b[0m\u001b[1;34m\"ve\"\u001b[0m\u001b[1;33m,\u001b[0m\u001b[0mk2\u001b[0m\u001b[1;33m)\u001b[0m\u001b[1;33m\u001b[0m\u001b[1;33m\u001b[0m\u001b[0m\n\u001b[0m",
      "\u001b[1;31mNameError\u001b[0m: name 'k2' is not defined"
     ]
    }
   ],
   "source": [
    "print(\"a2+bx+c şeklindeki denklemin\",\"köklerini bulun\")\n",
    "a = float(input(\"a'yı girin:\"))\n",
    "b = float(input(\"b'yı girin:\"))\n",
    "c = float(input(\"c'yı girin:\"))\n",
    "\n",
    "d = b**2 - 4*a*c\n",
    "k1 = (-b+d**0.5)/(2*a)\n",
    "k1 = (-b+d**0.5)/(2*a)\n",
    "print(a,\"x2\",b,\"x+\",c,\"kökleri:\",k1,\"ve\",k2)"
   ]
  },
  {
   "cell_type": "markdown",
   "metadata": {},
   "source": [
    "İki Değişkenimiz var bunların değerlerini nasıl takas ederiz?"
   ]
  },
  {
   "cell_type": "code",
   "execution_count": 16,
   "metadata": {},
   "outputs": [
    {
     "name": "stdout",
     "output_type": "stream",
     "text": [
      "ilk sayiyi girin:2\n",
      "ikinci sayiyi girin:5\n",
      "ilksayi 2\n",
      "ikincisayi 5\n"
     ]
    }
   ],
   "source": [
    "ilksayi = int(input(\"ilk sayiyi girin:\"))\n",
    "ikincisayi = int(input(\"ikinci sayiyi girin:\"))\n",
    "print(\"ilksayi\",ilksayi)\n",
    "print(\"ikincisayi\",ikincisayi)"
   ]
  },
  {
   "cell_type": "code",
   "execution_count": 17,
   "metadata": {},
   "outputs": [
    {
     "name": "stdout",
     "output_type": "stream",
     "text": [
      "ilk sayiyi girin:2\n",
      "ikinci sayiyi girin:5\n",
      "ilksayi 5\n",
      "ikincisayi 2\n"
     ]
    }
   ],
   "source": [
    "ilksayi = int(input(\"ilk sayiyi girin:\"))\n",
    "ikincisayi = int(input(\"ikinci sayiyi girin:\"))\n",
    "gecicisayi =ilksayi\n",
    "ilksayi = ikincisayi\n",
    "ikincisayi=gecicisayi\n",
    "print(\"ilksayi\",ilksayi)\n",
    "print(\"ikincisayi\",ikincisayi)\n"
   ]
  },
  {
   "cell_type": "code",
   "execution_count": null,
   "metadata": {},
   "outputs": [],
   "source": []
  }
 ],
 "metadata": {
  "kernelspec": {
   "display_name": "Python 3",
   "language": "python",
   "name": "python3"
  },
  "language_info": {
   "codemirror_mode": {
    "name": "ipython",
    "version": 3
   },
   "file_extension": ".py",
   "mimetype": "text/x-python",
   "name": "python",
   "nbconvert_exporter": "python",
   "pygments_lexer": "ipython3",
   "version": "3.8.5"
  }
 },
 "nbformat": 4,
 "nbformat_minor": 4
}
