{
 "cells": [
  {
   "cell_type": "code",
   "execution_count": 2,
   "metadata": {},
   "outputs": [
    {
     "name": "stdout",
     "output_type": "stream",
     "text": [
      "notunuzu girin: 50\n",
      "D\n"
     ]
    }
   ],
   "source": [
    "sinav_notu = int(input(\"notunuzu girin: \"))\n",
    "if sinav_notu > 90:\n",
    "    print(\"A\")\n",
    "elif sinav_notu > 80 and sinav_notu <= 90:\n",
    "    print(\"B\")\n",
    "elif sinav_notu >= 60 and sinav_notu <= 80:\n",
    "    print(\"C\")\n",
    "elif sinav_notu >= 50 and sinav_notu < 60:\n",
    "    print(\"D\")\n",
    "else:\n",
    "    print(\"F\")"
   ]
  },
  {
   "cell_type": "markdown",
   "metadata": {},
   "source": [
    "Bir bisikletin maliyet bedelini kabul eden ve aşağıdaki kriterlere göre ödenmesi gereken yol vergisini görüntüleyen bir program yazın\n"
   ]
  },
  {
   "cell_type": "code",
   "execution_count": null,
   "metadata": {},
   "outputs": [],
   "source": [
    ">10000             %15\n",
    ">5000 and <=10000  %10\n",
    "<=5000             %5"
   ]
  },
  {
   "cell_type": "code",
   "execution_count": 3,
   "metadata": {},
   "outputs": [
    {
     "name": "stdout",
     "output_type": "stream",
     "text": [
      "bisiklet fiyatını girin: 6000\n",
      "fiyat:  6600.0\n",
      "vergi:  600.0\n"
     ]
    }
   ],
   "source": [
    "fiyat = int(input(\"bisiklet fiyatını girin: \"))\n",
    "if fiyat >10000:\n",
    "    vergi = 0.15 * fiyat\n",
    "    fiyat = fiyat +vergi\n",
    "elif fiyat > 5000 and fiyat <= 10000:\n",
    "    vergi = 0.10 *fiyat\n",
    "    fiyat = fiyat +vergi\n",
    "else:\n",
    "    vergi = 0.5 *fiyat\n",
    "    fiyat = fiyat +vergi\n",
    "print(\"fiyat: \",fiyat)\n",
    "print(\"vergi: \",vergi)"
   ]
  },
  {
   "cell_type": "markdown",
   "metadata": {},
   "source": [
    "Q3. 1'den belirli bir sayıya kadar tüm sayıların toplamını hesaplayın."
   ]
  },
  {
   "cell_type": "code",
   "execution_count": 7,
   "metadata": {},
   "outputs": [
    {
     "name": "stdout",
     "output_type": "stream",
     "text": [
      "bir sayi girin: 10\n",
      "toplam eşittir:  55\n"
     ]
    }
   ],
   "source": [
    "sayi = int(input(\"bir sayi girin: \"))\n",
    "toplam = 0\n",
    "\n",
    "for i in range (1, sayi+1):\n",
    "    toplam += i \n",
    "    \n",
    "print(\"toplam eşittir: \",toplam)"
   ]
  },
  {
   "cell_type": "markdown",
   "metadata": {},
   "source": [
    "Q8. exercise 5: aşağıdaki çıktıyı yazdırın"
   ]
  },
  {
   "cell_type": "code",
   "execution_count": null,
   "metadata": {},
   "outputs": [],
   "source": [
    "1\n",
    "22\n",
    "333\n",
    "4444\n",
    "55555"
   ]
  },
  {
   "cell_type": "code",
   "execution_count": 8,
   "metadata": {},
   "outputs": [
    {
     "name": "stdout",
     "output_type": "stream",
     "text": [
      "\n",
      "1 \n",
      "2 2 \n",
      "3 3 3 \n",
      "4 4 4 4 \n",
      "5 5 5 5 5 \n"
     ]
    }
   ],
   "source": [
    "for i in range(6):\n",
    "    for f in range(i):\n",
    "        print(i, end = ' ')\n",
    "    print(\"\")         "
   ]
  },
  {
   "cell_type": "markdown",
   "metadata": {},
   "source": [
    "Q1. Bir sayının faktöriyelini bulan programı yazınız"
   ]
  },
  {
   "cell_type": "code",
   "execution_count": 11,
   "metadata": {},
   "outputs": [
    {
     "name": "stdout",
     "output_type": "stream",
     "text": [
      "bir sayi girin: 5\n",
      "120\n"
     ]
    }
   ],
   "source": [
    "sayi = int(input(\"bir sayi girin: \"))\n",
    "faktoriyel = 1\n",
    "for i in range (1,sayi+1):\n",
    "    faktoriyel = i*faktoriyel\n",
    "print(faktoriyel)"
   ]
  },
  {
   "cell_type": "markdown",
   "metadata": {},
   "source": [
    "Q2. Bir sayının asal olup olmadığını kontrol eden bir program yazınız."
   ]
  },
  {
   "cell_type": "code",
   "execution_count": 10,
   "metadata": {},
   "outputs": [
    {
     "name": "stdout",
     "output_type": "stream",
     "text": [
      "bir sayi girin: -11\n",
      "-11 asal değildir\n"
     ]
    }
   ],
   "source": [
    "sayi = int(input(\"bir sayi girin: \"))\n",
    "if sayi >1:\n",
    "    for i in range (2,sayi):\n",
    "        if sayi%i == 0:\n",
    "            print (sayi, \"asal değildir\")\n",
    "            break\n",
    "    else:\n",
    "        print(sayi, \"asaldır\")\n",
    "else:\n",
    "    print(sayi,\"asal değildir\")"
   ]
  },
  {
   "cell_type": "markdown",
   "metadata": {},
   "source": [
    "Q4. Döngü kullanarak bir listedeki sayıları görüntüler."
   ]
  },
  {
   "cell_type": "code",
   "execution_count": null,
   "metadata": {},
   "outputs": [],
   "source": []
  },
  {
   "cell_type": "markdown",
   "metadata": {},
   "source": [
    "Q5. Bir sayıdaki toplam rakam sayısını sayan bir program yazınız."
   ]
  },
  {
   "cell_type": "code",
   "execution_count": null,
   "metadata": {},
   "outputs": [],
   "source": []
  },
  {
   "cell_type": "markdown",
   "metadata": {},
   "source": [
    " Q6. 10 terime kadar fibonacci serisini görüntüle"
   ]
  },
  {
   "cell_type": "code",
   "execution_count": null,
   "metadata": {},
   "outputs": [],
   "source": []
  },
  {
   "cell_type": "markdown",
   "metadata": {},
   "source": [
    "Q7. Sayıların karesi artı 1'i listeleyen bir program yazın (örneğin: sayı 4 yani 4^2-)"
   ]
  },
  {
   "cell_type": "code",
   "execution_count": null,
   "metadata": {},
   "outputs": [],
   "source": []
  },
  {
   "cell_type": "markdown",
   "metadata": {},
   "source": [
    "Q9. Python'da çarpım tablosunu yazdıran iç içe geçmiş bir for döngüsü programı yazın."
   ]
  },
  {
   "cell_type": "code",
   "execution_count": null,
   "metadata": {},
   "outputs": [],
   "source": []
  }
 ],
 "metadata": {
  "kernelspec": {
   "display_name": "Python 3",
   "language": "python",
   "name": "python3"
  },
  "language_info": {
   "codemirror_mode": {
    "name": "ipython",
    "version": 3
   },
   "file_extension": ".py",
   "mimetype": "text/x-python",
   "name": "python",
   "nbconvert_exporter": "python",
   "pygments_lexer": "ipython3",
   "version": "3.8.5"
  }
 },
 "nbformat": 4,
 "nbformat_minor": 4
}
