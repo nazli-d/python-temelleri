{
 "cells": [
  {
   "cell_type": "raw",
   "id": "db61669f-863d-499d-a290-73bd1d30469f",
   "metadata": {},
   "source": [
    "12345\n",
    "1234\n",
    "123\n",
    "12\n",
    "1"
   ]
  },
  {
   "cell_type": "code",
   "execution_count": 2,
   "id": "3b1c6c9c-081f-41d7-a62f-0a34e64eda9e",
   "metadata": {},
   "outputs": [
    {
     "name": "stdin",
     "output_type": "stream",
     "text": [
      "bir sayi gir: 5\n"
     ]
    },
    {
     "name": "stdout",
     "output_type": "stream",
     "text": [
      "12345\n",
      "1234\n",
      "123\n",
      "12\n",
      "1\n"
     ]
    }
   ],
   "source": [
    "satir= int(input(\"bir sayi gir:\"))\n",
    "def ters_ucgen(n):\n",
    "    for i in range (n,0,-1):\n",
    "        for j in range (1,i+1):\n",
    "            print(j,end=\"\")\n",
    "        print()\n",
    "ters_ucgen(satir)"
   ]
  },
  {
   "cell_type": "code",
   "execution_count": 10,
   "id": "297b957a-c466-411c-a73a-b4685bdce995",
   "metadata": {},
   "outputs": [
    {
     "name": "stdin",
     "output_type": "stream",
     "text": [
      "bir sayi gir: 75869\n"
     ]
    },
    {
     "name": "stdout",
     "output_type": "stream",
     "text": [
      "toplam basamak sayısı: 5\n"
     ]
    }
   ],
   "source": [
    "#kullanıcı tarafından girilen bir sayıdaki toplam rakam sayısını while döngüsü ile yaz\n",
    "num = int(input(\"bir sayi gir:\"))\n",
    "count = 0\n",
    "while num != 0:\n",
    "    num = num // 10\n",
    "    count = count + 1\n",
    "print(\"toplam basamak sayısı:\",count)"
   ]
  },
  {
   "cell_type": "code",
   "execution_count": 12,
   "id": "a8142414-2468-447d-828d-284493d80d24",
   "metadata": {},
   "outputs": [
    {
     "name": "stdin",
     "output_type": "stream",
     "text": [
      "bir sayı gir: 6\n"
     ]
    },
    {
     "name": "stdout",
     "output_type": "stream",
     "text": [
      "bu sayı mükemmel sayıdır.\n"
     ]
    }
   ],
   "source": [
    "#bir sayının mükemmel sayı olup olmadığını kontrol etmek için gerekli kodu yaz.\n",
    "#mükemmel sayı kendisi hariç pozitif bölenlerinin toplamına eşit olan pozitif tam sayı .en küçük mükemmel sayı 2 ve 3 ün toplamı 6 dır diğer mükemmel sayı ise 28,496,8128\n",
    "n = int(input(\"bir sayı gir:\"))\n",
    "toplam = 0\n",
    "for i in range (1,n):\n",
    "    if (n % i == 0):\n",
    "        toplam = toplam + i\n",
    "        \n",
    "if (toplam == n):\n",
    "    print(\"bu sayı mükemmel sayıdır.\")\n",
    "else:\n",
    "    print(\"bu sayı mükemmel sayı değil.\")\n"
   ]
  },
  {
   "cell_type": "code",
   "execution_count": 22,
   "id": "eee8dc08-6b8f-4ee9-b2b3-9bdf7c744b93",
   "metadata": {},
   "outputs": [
    {
     "name": "stdin",
     "output_type": "stream",
     "text": [
      "bir sayı gir: 5\n"
     ]
    },
    {
     "name": "stdout",
     "output_type": "stream",
     "text": [
      "sayıların toplamı: 15\n"
     ]
    }
   ],
   "source": [
    "#0 dan kullanıcı tarafından girilen sayıya kadar (giriilen sayı da dahil)olan sayıların toplamını hesaplayan özyinelemeli (recursive) bir fonksiyon yaratan bir python programı yazın.\n",
    "n = int(input(\"bir sayı gir:\"))\n",
    "def toplam(num):\n",
    "    if num:\n",
    "        return num + toplam (num-1)\n",
    "    else:\n",
    "        return 0\n",
    "x=toplam(n)\n",
    "print(\"sayıların toplamı:\",x)"
   ]
  },
  {
   "cell_type": "code",
   "execution_count": 19,
   "id": "320fbd3a-601d-4cec-8064-1a1b550bcd3a",
   "metadata": {},
   "outputs": [
    {
     "name": "stdout",
     "output_type": "stream",
     "text": [
      "mustang\n",
      "otomatik\n",
      "\n",
      "        araba özellikleri:\n",
      "        marka:ford\n",
      "        model:mustang\n",
      "        renk:siyah\n",
      "        vites:manuel\n",
      "        \n"
     ]
    }
   ],
   "source": [
    "class arabalar():\n",
    "    def __init__(self,marka,model,renk,vites):\n",
    "        self.marka=marka\n",
    "        self.model=model\n",
    "        self.renk=renk\n",
    "        self.vites=vites\n",
    "        \n",
    "    def info (self):  #self class içindeki nesnelere ulaşmayı sağlayan kavram\n",
    "        print(\"\"\"\n",
    "        araba özellikleri:\n",
    "        marka:{}\n",
    "        model:{}\n",
    "        renk:{}\n",
    "        vites:{}\n",
    "        \"\"\".format(self.marka,self.model,self.renk,self.vites))\n",
    "        \n",
    "araba1=arabalar(\"ford\",\"mustang\",\"siyah\",\"manuel\")\n",
    "araba2=arabalar(\"bmw\",\"x5\",\"beyaz\",\"otomatik\")\n",
    "\n",
    "print(araba1.model)\n",
    "print(araba2.vites)\n",
    "\n",
    "araba1.info()"
   ]
  },
  {
   "cell_type": "code",
   "execution_count": 28,
   "id": "29e16b24-1388-4af6-8c54-f7c491ed820f",
   "metadata": {},
   "outputs": [
    {
     "name": "stdout",
     "output_type": "stream",
     "text": [
      "\n",
      "       araba özellikleri:\n",
      "       adı:mert\n",
      "       soyadı:yağ\n",
      "       numarası:12345\n",
      "       bölümü:comp\n",
      "       bildiği diller:['c++', 'python']\n",
      "       maas:10000\n",
      "       \n",
      "dile ekleniyor...\n",
      "\n",
      "       araba özellikleri:\n",
      "       adı:mert\n",
      "       soyadı:yağ\n",
      "       numarası:12345\n",
      "       bölümü:comp\n",
      "       bildiği diller:['c++', 'python', 'java']\n",
      "       maas:10000\n",
      "       \n",
      "Bölüm Değiştiriliyor...\n",
      "\n",
      "       araba özellikleri:\n",
      "       adı:mert\n",
      "       soyadı:yağ\n",
      "       numarası:12345\n",
      "       bölümü:EE eng\n",
      "       bildiği diller:['c++', 'python', 'java']\n",
      "       maas:10000\n",
      "       \n",
      "maaşa zam yapılıyor...\n",
      "\n",
      "       araba özellikleri:\n",
      "       adı:mert\n",
      "       soyadı:yağ\n",
      "       numarası:12345\n",
      "       bölümü:EE eng\n",
      "       bildiği diller:['c++', 'python', 'java']\n",
      "       maas:11000.0\n",
      "       \n"
     ]
    }
   ],
   "source": [
    " class student():\n",
    "    def __init__(self,name,surname,number,department,languages,maas):\n",
    "        self.name=name\n",
    "        self.surname=surname\n",
    "        self.number=number\n",
    "        self.department=department\n",
    "        self.languages=languages\n",
    "        self.maas=maas\n",
    "        \n",
    "    def info (self):  #self class içindeki nesnelere ulaşmayı sağlayan kavram\n",
    "        print(\"\"\"\n",
    "        araba özellikleri:\n",
    "        adı:{}\n",
    "        soyadı:{}\n",
    "        numarası:{}\n",
    "        bölümü:{}\n",
    "        bildiği diller:{}\n",
    "        maas:{}\n",
    "        \"\"\".format(self.name,self.surname,self.number,self.department,self.languages,self.maas))\n",
    "\n",
    "    def bolum_degistir(self,yeni_bolum):\n",
    "        print(\"Bölüm Değiştiriliyor...\")\n",
    "        self.department=yeni_bolum\n",
    "\n",
    "    def dil_ekle(self,yeni_dil):\n",
    "        print(\"dile ekleniyor...\")\n",
    "        self.languages.append(yeni_dil)\n",
    "\n",
    "    def maas_zammı(self,zam_orani):\n",
    "        print(\"maaşa zam yapılıyor...\")\n",
    "        self.maas=self.maas+(self.maas*zam_orani/100)\n",
    "        \n",
    "ogrenci1=student(\"mert\",\"yağ\",12345,\"comp\",[\"c++\",\"python\"],10000)\n",
    "ogrenci1.info()\n",
    "ogrenci1.dil_ekle(\"java\")\n",
    "ogrenci1.info()\n",
    "ogrenci1.bolum_degistir(\"EE eng\")\n",
    "ogrenci1.info()\n",
    "ogrenci1.maas_zammı(10)\n",
    "ogrenci1.info()"
   ]
  },
  {
   "cell_type": "code",
   "execution_count": 31,
   "id": "bae61e16-d63f-4755-ae40-820cbf7853eb",
   "metadata": {},
   "outputs": [
    {
     "name": "stdout",
     "output_type": "stream",
     "text": [
      "\n",
      "        araba özellikleri:\n",
      "        adı:mert\n",
      "        soyadı:yağ\n",
      "        maas:2000\n",
      "        departman:IT\n",
      "        \n"
     ]
    }
   ],
   "source": [
    "class calisan:\n",
    "    def __init__(self,name,surname,maas,department):\n",
    "        self.name=name\n",
    "        self.surname=surname\n",
    "        self.maas=maas\n",
    "        self.department=department\n",
    "        \n",
    "    def info (self):  #self class içindeki nesnelere ulaşmayı sağlayan kavram\n",
    "        print(\"\"\"\n",
    "        araba özellikleri:\n",
    "        adı:{}\n",
    "        soyadı:{}\n",
    "        maas:{}\n",
    "        departman:{}\n",
    "        \"\"\".format(self.name,self.surname,self.maas,self.department))\n",
    "\n",
    "    def departman_degistir(self,yeni_departman):\n",
    "        print(\"Bölüm Değiştiriliyor...\")\n",
    "        self.department=yeni_departman\n",
    "        \n",
    "x=calisan(\"mert\",\"yağ\",2000,\"IT\")\n",
    "x.info()"
   ]
  },
  {
   "cell_type": "code",
   "execution_count": 33,
   "id": "36e2223b-7222-4d17-a6e4-92ad2a351b16",
   "metadata": {},
   "outputs": [
    {
     "name": "stdout",
     "output_type": "stream",
     "text": [
      "mert yağ 30 2020\n"
     ]
    }
   ],
   "source": [
    "class person:\n",
    "    def __init__(self, name, surname, age, graduationyear=None):\n",
    "        self.name = name\n",
    "        self.surname = surname\n",
    "        self.age = age\n",
    "        self.graduationyear = graduationyear\n",
    "        \n",
    "    def printname(self):\n",
    "        print(self.name, self.surname, self.age, self.graduationyear)\n",
    "\n",
    "class student(person):\n",
    "    def __init__(self, name, surname, age, graduationyear):\n",
    "        super().__init__(name, surname, age, graduationyear)\n",
    "\n",
    "x = student(\"mert\", \"yağ\", 30, 2020)\n",
    "x.printname()"
   ]
  },
  {
   "cell_type": "code",
   "execution_count": null,
   "id": "39bdb3df-9f24-4419-b97e-bf6f012c294c",
   "metadata": {},
   "outputs": [],
   "source": []
  }
 ],
 "metadata": {
  "kernelspec": {
   "display_name": "Python 3",
   "language": "python",
   "name": "python3"
  },
  "language_info": {
   "codemirror_mode": {
    "name": "ipython",
    "version": 3
   },
   "file_extension": ".py",
   "mimetype": "text/x-python",
   "name": "python",
   "nbconvert_exporter": "python",
   "pygments_lexer": "ipython3",
   "version": "3.8.5"
  }
 },
 "nbformat": 4,
 "nbformat_minor": 5
}
