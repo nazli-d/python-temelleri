{
 "cells": [
  {
   "cell_type": "markdown",
   "metadata": {},
   "source": [
    "S1. Kullanıcıdan sınav notunu kabul eden ve notu aşağıdaki kriterlere göre görüntüleyen bir program yazın:\n",
    " Marks Grade\n",
    " > 90 A\n",
    " > 80 and <= 90 B\n",
    " >= 60 and <= 80 C\n",
    " >=50 and < 60 D\n",
    " Below F\n"
   ]
  },
  {
   "cell_type": "code",
   "execution_count": null,
   "metadata": {},
   "outputs": [],
   "source": [
    "sinav_notu = int(input(\"notunuzu girin: \"))\n",
    "if sinav_notu > 90:\n",
    "    print(\"A\")\n",
    "elif sinav_notu > 80 and sinav_notu <= 90:\n",
    "    print(\"B\")\n",
    "elif sinav_notu >= 60 and sinav_notu <= 80:\n",
    "    print(\"C\")\n",
    "elif sinav_notu >= 50 and sinav_notu < 60:\n",
    "    print(\"D\")\n",
    "else:\n",
    "    print(\"F\")"
   ]
  },
  {
   "cell_type": "markdown",
   "metadata": {},
   "source": [
    "Q2. Bir bisikletin maliyet fiyatını kabul eden ve aşağıdaki kriterlere göre ödenmesi gereken yol vergisini görüntüleyen bir program yazın:\n",
    "\n",
    " Cost price (in Rs) Tax\n",
    " > 10000 15 %\n",
    " > 5000 and <= 10000 10%\n",
    " <= 5000 5%"
   ]
  },
  {
   "cell_type": "code",
   "execution_count": null,
   "metadata": {},
   "outputs": [],
   "source": [
    "fiyat = int(input(\"bisiklet fiyatını girin: \"))\n",
    "if fiyat >10000:\n",
    "    vergi = 0.15 * fiyat\n",
    "    fiyat = fiyat +vergi\n",
    "elif fiyat > 5000 and fiyat <= 10000:\n",
    "    vergi = 0.10 *fiyat\n",
    "    fiyat = fiyat +vergi\n",
    "else:\n",
    "    vergi = 0.5 *fiyat\n",
    "    fiyat = fiyat +vergi\n",
    "print(\"fiyat: \",fiyat)\n",
    "print(\"vergi: \",vergi)"
   ]
  },
  {
   "cell_type": "markdown",
   "metadata": {},
   "source": [
    "1'den belirli bir sayıya kadar tüm sayıların toplamını hesaplayın."
   ]
  },
  {
   "cell_type": "code",
   "execution_count": null,
   "metadata": {},
   "outputs": [],
   "source": [
    "sayi = int(input(\"bir sayi girin: \"))\n",
    "toplam = 0\n",
    "\n",
    "for i in range (1, sayi+1):\n",
    "    toplam += i \n",
    "    \n",
    "print(\"toplam eşittir: \",toplam)"
   ]
  },
  {
   "cell_type": "markdown",
   "metadata": {},
   "source": [
    "1\n",
    "22\n",
    "333\n",
    "4444\n",
    "55555"
   ]
  },
  {
   "cell_type": "code",
   "execution_count": null,
   "metadata": {},
   "outputs": [],
   "source": [
    "for i in range(6):\n",
    "    for f in range(i):\n",
    "        print(i, end = ' ')\n",
    "    print(\"\")         "
   ]
  },
  {
   "cell_type": "markdown",
   "metadata": {},
   "source": [
    "S3. 1'den 7'ye kadar bir sayıyı kabul eden ve Pazar için 1, Pazartesi için 2 gibi günün adını görüntüleyen bir program yazın."
   ]
  },
  {
   "cell_type": "markdown",
   "metadata": {},
   "source": [
    "S4. 1'den 12'ye kadar bir sayıyı kabul eden ve ayın adını ve o aydaki günleri (Ocak için 1 ve 31 gün sayısı gibi) görüntüleyen bir program yazın."
   ]
  },
  {
   "cell_type": "markdown",
   "metadata": {},
   "source": [
    "S5. Bir şirket, hizmet yılı fazla olan çalışanına yüzde 5 oranında ikramiye vermeye karar verdi 5 yıldan fazla. Kullanıcıya maaşını ve hizmet yılını sorun ve net ikramiye tutarını yazdırın."
   ]
  },
  {
   "cell_type": "markdown",
   "metadata": {},
   "source": [
    "S6. Bir mağaza, satın alınan miktarın maliyeti 1000'den fazla ise %10 indirim yapacaktır. Kullanıcıdan miktar isteyin. Bir birimin 100 dolara mal olacağını varsayalım. Kullanıcı için toplam maliyeti değerlendirin ve yazdırın."
   ]
  },
  {
   "cell_type": "markdown",
   "metadata": {},
   "source": [
    "S7. 4, 7 ve 10 hariç 0'dan 10'a kadar olan tüm sayıları yazdıran bir Python programı yazınız."
   ]
  },
  {
   "cell_type": "markdown",
   "metadata": {},
   "source": [
    "Soru2.Üç sayının maksimumunu bulmak için bir Python fonksiyonu yazın."
   ]
  },
  {
   "cell_type": "markdown",
   "metadata": {},
   "source": [
    "Soru3.Belirli bir listedeki çift sayıları yazdıracak bir Python programı yazınız."
   ]
  },
  {
   "cell_type": "markdown",
   "metadata": {},
   "source": [
    "S4. Bir dizeyi kabul eden ve büyük ve küçük harflerin sayısını hesaplayan bir Python işlevi yazın."
   ]
  },
  {
   "cell_type": "markdown",
   "metadata": {},
   "source": [
    "S5. 2 değer alan ve bunun toplamını, çıkarma işlemini, çarpma işlemini ve sonucunu döndüren bir fonksiyon tanımlayın.\n",
    "bölüm."
   ]
  },
  {
   "cell_type": "code",
   "execution_count": 26,
   "metadata": {},
   "outputs": [
    {
     "name": "stdout",
     "output_type": "stream",
     "text": [
      "toplam:  9\n",
      "fark:  5\n",
      "çarpım:  14\n"
     ]
    }
   ],
   "source": [
    "def hesap(a,b):\n",
    "    print(\"toplam: \", a+b)\n",
    "    print(\"fark: \", a-b)\n",
    "    print(\"çarpım: \", a*b)\n",
    "hesap(7,2)"
   ]
  },
  {
   "cell_type": "markdown",
   "metadata": {},
   "source": [
    "S6. Yarıçapı kabul eden ve bir dairenin alanını döndüren bir fonksiyon tanımlayın."
   ]
  },
  {
   "cell_type": "markdown",
   "metadata": {},
   "source": [
    "S7. Özyinelemeli Fibonacci"
   ]
  },
  {
   "cell_type": "markdown",
   "metadata": {},
   "source": [
    "S1. Bir kod yazın (faktöriyel için özyinelemeli fonksiyon)"
   ]
  },
  {
   "cell_type": "markdown",
   "metadata": {},
   "source": [
    "S1. Bir sayının faktöriyelini bulan programı yazınız."
   ]
  },
  {
   "cell_type": "code",
   "execution_count": 25,
   "metadata": {},
   "outputs": [
    {
     "name": "stdout",
     "output_type": "stream",
     "text": [
      "sayi: 5\n",
      "5 != 120\n"
     ]
    }
   ],
   "source": [
    "def faktoriyelmi(sayi):\n",
    "    faktoriyel=1\n",
    "    for i in range(1,sayi+1):\n",
    "        faktoriyel *=i\n",
    "    print(sayi,\"!=\",faktoriyel)\n",
    "\n",
    "faktoriyelmi(int(input(\"sayi: \")))"
   ]
  },
  {
   "cell_type": "markdown",
   "metadata": {},
   "source": [
    "Q2. Bir sayının asal olup olmadığını kontrol eden bir program yazınız."
   ]
  },
  {
   "cell_type": "code",
   "execution_count": 8,
   "metadata": {},
   "outputs": [
    {
     "name": "stdout",
     "output_type": "stream",
     "text": [
      "asal değil\n"
     ]
    }
   ],
   "source": [
    "sayi = int(input(\"bir sayi girin: \"))\n",
    "if sayi >1:\n",
    "    for i in range (2,sayi):\n",
    "        if sayi%i == 0:\n",
    "            print (sayi, \"asal değildir\")\n",
    "            break\n",
    "    else:\n",
    "        print(sayi, \"asaldır\")\n",
    "else:\n",
    "    print(sayi,\"asal değildir\")"
   ]
  },
  {
   "cell_type": "markdown",
   "metadata": {},
   "source": [
    "S3. 1'den belirli bir sayıya kadar tüm sayıların toplamını hesaplayın"
   ]
  },
  {
   "cell_type": "markdown",
   "metadata": {},
   "source": [
    "S4. Döngü kullanarak listedeki sayıları görüntüleme"
   ]
  },
  {
   "cell_type": "markdown",
   "metadata": {},
   "source": [
    "S5. Bir sayıdaki toplam rakam sayısını while döngüsü kullanarak sayan bir program yazın."
   ]
  },
  {
   "cell_type": "markdown",
   "metadata": {},
   "source": [
    "S6. Fibonacci serisini 10 terime kadar görüntüleyin\n",
    "Fibonacci Dizisi bir sayı dizisidir. Bir sonraki sayı toplanarak bulunur\n",
    "ondan önce iki sayı. İlk iki sayı 0 ve 1'dir.\n",
    "Örneğin 0, 1, 1, 2, 3, 5, 8, 13, 21. Yukarıdaki serideki bir sonraki sayı 13+21 = 34'tür."
   ]
  },
  {
   "cell_type": "markdown",
   "metadata": {},
   "source": [
    "S7. Sayıların karesi artı 1'i (örneğin: sayı 4 yani 4^2+1= 17) 1'den 20'ye kadar listeleyen bir program yazın."
   ]
  },
  {
   "cell_type": "code",
   "execution_count": null,
   "metadata": {},
   "outputs": [],
   "source": [
    "1\n",
    "2 2\n",
    "3 3 3\n",
    "4 4 4 4\n",
    "5 5 5 5 5"
   ]
  },
  {
   "cell_type": "markdown",
   "metadata": {},
   "source": [
    "S9. Python'da çarpım tablosunu yazdırmak için iç içe geçmiş bir for döngüsü programı yazın"
   ]
  },
  {
   "cell_type": "markdown",
   "metadata": {},
   "source": [
    "S10. Dış for döngüsü ilk listeyi yineler ve iç döngü de ikinci listeyi yineler.\n",
    "sayıların.\n",
    "Dıştaki sayı ile içteki döngünün geçerli numarası aynıysa o zaman döngüye geçin.\n",
    "bir iç döngünün sonraki yinelemesi.\n",
    "İlk=[2, 4, 6]\n",
    "İkinci=[2, 4, 6]\n",
    "çıktı\n",
    "2 * 4 = 8\n",
    "2 * 6 = 12\n",
    "4 * 2 = 8\n",
    "4*6 = 24\n",
    "6 * 2 = 12\n",
    "6*4 = 24"
   ]
  },
  {
   "cell_type": "markdown",
   "metadata": {},
   "source": [
    "S11. İki listeniz var, yeni bir liste oluşturup tüm numaraları birbirine ekleyip yeni listeye koyun.\n",
    "İlk= [2, 3, 4]\n",
    "İkinci =[20, 30, 40]"
   ]
  },
  {
   "cell_type": "markdown",
   "metadata": {},
   "source": [
    "S12. 1 ile 10000 arasındaki mükemmel sayıları bulan bir program yazınız.\n",
    "mükemmel sayı, kendi bölenlerinin toplamına eşit olan pozitif tam sayı. \n",
    "en küçük mükemmel sayı 1, 2 ve 3'ün toplamı olan 6'dır. Diğer mükemmel sayılar\n",
    "28, 496 ve 8,128'dir."
   ]
  },
  {
   "cell_type": "markdown",
   "metadata": {},
   "source": [
    "S13. Bir parolanın (kullanıcılardan gelen girdi) geçerliliğini kontrol etmek için bir Python programı yazın.\n",
    "Doğrulama:\n",
    "[a-z] arasında en az 1 harf ve [A-Z] arasında en az 1 harf.\n",
    "[0-9] arasında en az 1 sayı.\n",
    "[$#@]'dan en az 1 karakter.\n",
    "Minimum uzunluk 6 karakter.\n",
    "Maksimum uzunluk 16 karakter."
   ]
  },
  {
   "cell_type": "markdown",
   "metadata": {},
   "source": [
    "1-) 1 ile 30 arasındaki (her ikisi de dahil) sayılardan oluşan bir liste oluşturup bu listenin ilk ve son 5 öğesinin karelerini ekrana yazdırınız. "
   ]
  },
  {
   "cell_type": "markdown",
   "metadata": {},
   "source": [
    "2-) Bir listedeki öğelerden belirli bir aralıkta bulunanların sayısını hesaplayan programı yazın."
   ]
  },
  {
   "cell_type": "code",
   "execution_count": null,
   "metadata": {},
   "outputs": [],
   "source": [
    "3-) Aşağıdaki modeli iç içe for döngüsü kullanarak oluşturmak için bir Python programı yazın.\n",
    "*\n",
    "* *\n",
    "* * *\n",
    "* * * *\n",
    "* * * * *\n",
    "* * * *\n",
    "* * *\n",
    "* *\n",
    "*"
   ]
  },
  {
   "cell_type": "markdown",
   "metadata": {},
   "source": [
    "4-) Ekrana yazdığınız bir yazıdaki rakam ve harf sayısını hesaplayan bir Python programı yazın."
   ]
  },
  {
   "cell_type": "markdown",
   "metadata": {},
   "source": [
    "5-) Çarpım tablosunu ekrana girdiğiniz sayı için yazdırın."
   ]
  },
  {
   "cell_type": "code",
   "execution_count": 2,
   "metadata": {},
   "outputs": [
    {
     "name": "stdout",
     "output_type": "stream",
     "text": [
      "sayi gir: 4\n",
      "4 x 1 = 4\n",
      "4 x 2 = 8\n",
      "4 x 3 = 12\n",
      "4 x 4 = 16\n",
      "4 x 5 = 20\n",
      "4 x 6 = 24\n",
      "4 x 7 = 28\n",
      "4 x 8 = 32\n",
      "4 x 9 = 36\n",
      "4 x 10 = 40\n"
     ]
    }
   ],
   "source": [
    "n=int(input(\"sayi gir: \"))\n",
    "for i in range(1,11):\n",
    "    print(n,\"x\",i,\"=\",n*i)"
   ]
  },
  {
   "cell_type": "markdown",
   "metadata": {},
   "source": [
    "6-) Ekrana yazılan bir dizenin palindrom olup olmadığını kontrol eden bir Python programı\n",
    "yazın.örneğin, madam."
   ]
  },
  {
   "cell_type": "code",
   "execution_count": 7,
   "metadata": {},
   "outputs": [
    {
     "name": "stdout",
     "output_type": "stream",
     "text": [
      "sözcük gir: naz\n",
      "değil\n"
     ]
    }
   ],
   "source": [
    "def palindromMu(sozcuk):\n",
    "    sozcuk=list(sozcuk)\n",
    "    terssozcuk=sozcuk.copy()\n",
    "    terssozcuk.reverse()\n",
    "    if terssozcuk==sozcuk:\n",
    "        print(\"polindrom\")\n",
    "    else:\n",
    "        print(\"değil\")\n",
    "palindromMu(input(\"sözcük gir: \"))"
   ]
  },
  {
   "cell_type": "code",
   "execution_count": null,
   "metadata": {},
   "outputs": [],
   "source": [
    "Negatif olmayan bir tam sayının basamak değerlerinin toplamını bulan bir Python programı yazın."
   ]
  },
  {
   "cell_type": "markdown",
   "metadata": {},
   "source": [
    "8-) 1000 ile 3000 arasında (her ikisi de dahil) 7'ye bölünebilen ve 5'in katları olan sayıları\n",
    "bulan bir Python programı yazın"
   ]
  },
  {
   "cell_type": "code",
   "execution_count": 10,
   "metadata": {},
   "outputs": [
    {
     "name": "stdout",
     "output_type": "stream",
     "text": [
      "105\n",
      "140\n",
      "175\n",
      "210\n",
      "245\n",
      "280\n"
     ]
    }
   ],
   "source": [
    "for i in range(100,300):\n",
    "    if i%7==0 and i%5==0:\n",
    "        print(i)"
   ]
  },
  {
   "cell_type": "code",
   "execution_count": null,
   "metadata": {},
   "outputs": [],
   "source": []
  }
 ],
 "metadata": {
  "kernelspec": {
   "display_name": "Python 3",
   "language": "python",
   "name": "python3"
  },
  "language_info": {
   "codemirror_mode": {
    "name": "ipython",
    "version": 3
   },
   "file_extension": ".py",
   "mimetype": "text/x-python",
   "name": "python",
   "nbconvert_exporter": "python",
   "pygments_lexer": "ipython3",
   "version": "3.8.5"
  }
 },
 "nbformat": 4,
 "nbformat_minor": 4
}
